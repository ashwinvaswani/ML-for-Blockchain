{
 "cells": [
  {
   "cell_type": "markdown",
   "metadata": {
    "colab": {},
    "colab_type": "code",
    "id": "ewDCPQsgzhCh"
   },
   "source": [
    "# NUS Selection-Test2 : Machine Learning in Blockchain Systems"
   ]
  },
  {
   "cell_type": "markdown",
   "metadata": {},
   "source": [
    "“A blockchain is a time-stamped series of immutable record of data that is managed by a\n",
    "cluster of computers not owned by any single entity. Each of these blocks of data (i.e. block)\n",
    "are secured and bound to each other using cryptographic principles (i.e. chain)”."
   ]
  },
  {
   "cell_type": "markdown",
   "metadata": {},
   "source": [
    "Architecture​ : These are the core blockchain architecture components:\n",
    "1. Node — user or computer within the blockchain\n",
    "2. Transaction — smallest building block of a blockchain system\n",
    "3. Block — a data structure used for keeping a set of transactions which is distributed to\n",
    "all nodes in the network\n",
    "4. Chain — a sequence of blocks in a specific order\n",
    "5. Miners — specific nodes which perform the block verification process\n",
    "6. Consensus— a set of rules and arrangements to carry out blockchain operations\n",
    "Blockchain possesses a lot of benefits for businesses. Here are several embedded\n",
    "characteristics: cryptography, immutability, provenance, decentralization, anonymity,\n",
    "transparency. A layered approach of understanding may be easier for the task."
   ]
  },
  {
   "cell_type": "markdown",
   "metadata": {},
   "source": [
    "Steps in a blockchain application: ​ The actors such as users and IoT devices interact with\n",
    "a typical blockchain application, which in turn interacts with a blockchain network. Before this\n",
    "flow starts, the blockchain network and governance, including peers, membership services,\n",
    "and endorsement policies, have already been designed, implemented, deployed and in\n",
    "operation"
   ]
  },
  {
   "cell_type": "markdown",
   "metadata": {},
   "source": [
    "Select one or more components in the architecture of the blockchain system where\n",
    "you can apply any machine (deep) learning technique(s). ​ The task is to use\n",
    "machine learning to enhance/break the fundamental blockchain system."
   ]
  },
  {
   "cell_type": "markdown",
   "metadata": {
    "colab": {},
    "colab_type": "code",
    "id": "PWnZ-nw6zcdk"
   },
   "source": [
    "## Importing Libraries"
   ]
  },
  {
   "cell_type": "code",
   "execution_count": 0,
   "metadata": {
    "colab": {},
    "colab_type": "code",
    "id": "HAqhHqUbkVNa"
   },
   "outputs": [],
   "source": [
    "\n",
    "import numpy as np\n",
    "import pandas as pd\n",
    "import networkx as nx\n",
    "import math\n",
    "import seaborn as sns\n",
    "import matplotlib.pyplot as plt\n",
    "from sklearn.model_selection import train_test_split\n",
    "from sklearn.preprocessing import StandardScaler\n",
    "from sklearn.ensemble import RandomForestClassifier\n",
    "from sklearn.metrics import confusion_matrix\n",
    "from sklearn.ensemble import GradientBoostingClassifier\n",
    "from sklearn.linear_model import LogisticRegression\n",
    "%matplotlib inline\n"
   ]
  },
  {
   "cell_type": "code",
   "execution_count": 0,
   "metadata": {
    "colab": {},
    "colab_type": "code",
    "id": "azpCFmQrlQJA"
   },
   "outputs": [],
   "source": [
    "col_names = ['Source','Target','Rating','Timestamp']"
   ]
  },
  {
   "cell_type": "markdown",
   "metadata": {
    "colab": {},
    "colab_type": "code",
    "id": "qBBiFhcozpZk"
   },
   "source": [
    "## Reading Data"
   ]
  },
  {
   "cell_type": "code",
   "execution_count": 0,
   "metadata": {
    "colab": {},
    "colab_type": "code",
    "id": "9pSKMLmnk1rL"
   },
   "outputs": [],
   "source": [
    "df = pd.read_csv('soc-sign-bitcoinotc.csv',names = col_names)"
   ]
  },
  {
   "cell_type": "code",
   "execution_count": 0,
   "metadata": {
    "colab": {
     "base_uri": "https://localhost:8080/",
     "height": 204
    },
    "colab_type": "code",
    "id": "cS4g2msck6CV",
    "outputId": "b2783c05-596d-4baf-8b71-32988b87e33c"
   },
   "outputs": [
    {
     "data": {
      "text/html": [
       "<div>\n",
       "<style scoped>\n",
       "    .dataframe tbody tr th:only-of-type {\n",
       "        vertical-align: middle;\n",
       "    }\n",
       "\n",
       "    .dataframe tbody tr th {\n",
       "        vertical-align: top;\n",
       "    }\n",
       "\n",
       "    .dataframe thead th {\n",
       "        text-align: right;\n",
       "    }\n",
       "</style>\n",
       "<table border=\"1\" class=\"dataframe\">\n",
       "  <thead>\n",
       "    <tr style=\"text-align: right;\">\n",
       "      <th></th>\n",
       "      <th>Source</th>\n",
       "      <th>Target</th>\n",
       "      <th>Rating</th>\n",
       "      <th>Timestamp</th>\n",
       "    </tr>\n",
       "  </thead>\n",
       "  <tbody>\n",
       "    <tr>\n",
       "      <th>0</th>\n",
       "      <td>6</td>\n",
       "      <td>2</td>\n",
       "      <td>4</td>\n",
       "      <td>1.289242e+09</td>\n",
       "    </tr>\n",
       "    <tr>\n",
       "      <th>1</th>\n",
       "      <td>6</td>\n",
       "      <td>5</td>\n",
       "      <td>2</td>\n",
       "      <td>1.289242e+09</td>\n",
       "    </tr>\n",
       "    <tr>\n",
       "      <th>2</th>\n",
       "      <td>1</td>\n",
       "      <td>15</td>\n",
       "      <td>1</td>\n",
       "      <td>1.289243e+09</td>\n",
       "    </tr>\n",
       "    <tr>\n",
       "      <th>3</th>\n",
       "      <td>4</td>\n",
       "      <td>3</td>\n",
       "      <td>7</td>\n",
       "      <td>1.289245e+09</td>\n",
       "    </tr>\n",
       "    <tr>\n",
       "      <th>4</th>\n",
       "      <td>13</td>\n",
       "      <td>16</td>\n",
       "      <td>8</td>\n",
       "      <td>1.289254e+09</td>\n",
       "    </tr>\n",
       "  </tbody>\n",
       "</table>\n",
       "</div>"
      ],
      "text/plain": [
       "   Source  Target  Rating     Timestamp\n",
       "0       6       2       4  1.289242e+09\n",
       "1       6       5       2  1.289242e+09\n",
       "2       1      15       1  1.289243e+09\n",
       "3       4       3       7  1.289245e+09\n",
       "4      13      16       8  1.289254e+09"
      ]
     },
     "execution_count": 38,
     "metadata": {
      "tags": []
     },
     "output_type": "execute_result"
    }
   ],
   "source": [
    "df.head()"
   ]
  },
  {
   "cell_type": "markdown",
   "metadata": {
    "colab": {},
    "colab_type": "code",
    "id": "H2GKz0BNz0pR"
   },
   "source": [
    "## Exploratory Data Analysis"
   ]
  },
  {
   "cell_type": "code",
   "execution_count": 0,
   "metadata": {
    "colab": {},
    "colab_type": "code",
    "id": "nz4XhtBbz66v"
   },
   "outputs": [],
   "source": [
    "src = df['Source']\n",
    "rtn = df['Rating']"
   ]
  },
  {
   "cell_type": "code",
   "execution_count": 0,
   "metadata": {
    "colab": {
     "base_uri": "https://localhost:8080/",
     "height": 300
    },
    "colab_type": "code",
    "id": "ob0BJGfyz7C_",
    "outputId": "5477968b-5268-4477-a6a3-11b77138d7a9"
   },
   "outputs": [
    {
     "data": {
      "text/plain": [
       "<matplotlib.axes._subplots.AxesSubplot at 0x7f7c085c0080>"
      ]
     },
     "execution_count": 41,
     "metadata": {
      "tags": []
     },
     "output_type": "execute_result"
    },
    {
     "data": {
      "image/png": "[encoded data removed]",
      "text/plain": [
       "<Figure size 432x288 with 1 Axes>"
      ]
     },
     "metadata": {
      "tags": []
     },
     "output_type": "display_data"
    }
   ],
   "source": [
    "sns.scatterplot(x = src,y= rtn)"
   ]
  },
  {
   "cell_type": "markdown",
   "metadata": {
    "colab": {},
    "colab_type": "code",
    "id": "L2F3rdWhz7Qx"
   },
   "source": [
    "It can be seen from the above plot that most of the source nodes have given positive rating and it very concentrated. This gives the intuition of creating two features fairness and goodness which will be discussed below."
   ]
  },
  {
   "cell_type": "markdown",
   "metadata": {
    "colab": {},
    "colab_type": "code",
    "id": "3Ht8rvQCzsSB"
   },
   "source": [
    "## Feature Engineering"
   ]
  },
  {
   "cell_type": "code",
   "execution_count": 0,
   "metadata": {
    "colab": {},
    "colab_type": "code",
    "id": "7jI-B_u0k6wB"
   },
   "outputs": [],
   "source": [
    "def initialize_scores(G):\n",
    "    fairness = {}\n",
    "    goodness = {}\n",
    "    \n",
    "    nodes = G.nodes()\n",
    "    for node in nodes:\n",
    "        fairness[node] = 1\n",
    "        try:\n",
    "            goodness[node] = G.in_degree(node, weight='weight')*1.0/G.in_degree(node)\n",
    "        except:\n",
    "            goodness[node] = 0\n",
    "    return fairness, goodness"
   ]
  },
  {
   "cell_type": "code",
   "execution_count": 0,
   "metadata": {
    "colab": {},
    "colab_type": "code",
    "id": "aH-XbyIGpF99"
   },
   "outputs": [],
   "source": [
    "def compute_fairness_goodness(G):\n",
    "    fairness, goodness = initialize_scores(G)\n",
    "    \n",
    "    nodes = G.nodes()\n",
    "    iter = 0\n",
    "    while iter < 100:\n",
    "        df = 0\n",
    "        dg = 0\n",
    "\n",
    "        print(\"Iteration number\", iter)\n",
    "        \n",
    "        print('Updating goodness')\n",
    "        for node in nodes:\n",
    "            inedges = G.in_edges(node, data='weight')\n",
    "            g = 0\n",
    "            for edge in inedges:\n",
    "                g += fairness[edge[0]]*edge[2]\n",
    "\n",
    "            try:\n",
    "                dg += abs(g/len(inedges) - goodness[node])\n",
    "                goodness[node] = g/len(inedges)\n",
    "            except:\n",
    "                pass\n",
    "\n",
    "        print('Updating fairness')\n",
    "        for node in nodes:\n",
    "            outedges = G.out_edges(node, data='weight')\n",
    "            f = 0\n",
    "            for edge in outedges:\n",
    "                f += 1.0 - abs(edge[2] - goodness[edge[1]])/2.0\n",
    "            try:\n",
    "                df += abs(f/len(outedges) - fairness[node])\n",
    "                fairness[node] = f/len(outedges)\n",
    "            except:\n",
    "                pass\n",
    "        \n",
    "        print('Differences in fairness score and goodness score = %.2f, %.2f' % (df, dg))\n",
    "        if df < math.pow(10, -6) and dg < math.pow(10, -6):\n",
    "            break\n",
    "        iter+=1\n",
    "    \n",
    "    return fairness, goodness"
   ]
  },
  {
   "cell_type": "code",
   "execution_count": 0,
   "metadata": {
    "colab": {},
    "colab_type": "code",
    "id": "xpQ8-5BGpHud"
   },
   "outputs": [],
   "source": [
    "G = nx.DiGraph()"
   ]
  },
  {
   "cell_type": "code",
   "execution_count": 0,
   "metadata": {
    "colab": {},
    "colab_type": "code",
    "id": "8EMzYLDZpdp-"
   },
   "outputs": [],
   "source": [
    "f = open(\"soc-sign-bitcoinotc.csv\",\"r\")\n",
    "for l in f:\n",
    "    ls = l.strip().split(\",\")\n",
    "    G.add_edge(ls[0], ls[1], weight = int(ls[2])/10) ## the weight should already be in the range of -1 to 1\n",
    "f.close()"
   ]
  },
  {
   "cell_type": "code",
   "execution_count": 0,
   "metadata": {
    "colab": {
     "base_uri": "https://localhost:8080/",
     "height": 1000
    },
    "colab_type": "code",
    "id": "Hcjb6Bxdpie-",
    "outputId": "d07be4e5-d1c8-4c04-8909-e668996640c7"
   },
   "outputs": [
    {
     "name": "stdout",
     "output_type": "stream",
     "text": [
      "Iteration number 0\n",
      "Updating goodness\n",
      "Updating fairness\n",
      "Differences in fairness score and goodness score = 382.21, 0.00\n",
      "Iteration number 1\n",
      "Updating goodness\n",
      "Updating fairness\n",
      "Differences in fairness score and goodness score = 34.47, 102.29\n",
      "Iteration number 2\n",
      "Updating goodness\n",
      "Updating fairness\n",
      "Differences in fairness score and goodness score = 2.39, 6.97\n",
      "Iteration number 3\n",
      "Updating goodness\n",
      "Updating fairness\n",
      "Differences in fairness score and goodness score = 0.39, 1.06\n",
      "Iteration number 4\n",
      "Updating goodness\n",
      "Updating fairness\n",
      "Differences in fairness score and goodness score = 0.10, 0.24\n",
      "Iteration number 5\n",
      "Updating goodness\n",
      "Updating fairness\n",
      "Differences in fairness score and goodness score = 0.03, 0.06\n",
      "Iteration number 6\n",
      "Updating goodness\n",
      "Updating fairness\n",
      "Differences in fairness score and goodness score = 0.01, 0.02\n",
      "Iteration number 7\n",
      "Updating goodness\n",
      "Updating fairness\n",
      "Differences in fairness score and goodness score = 0.00, 0.00\n",
      "Iteration number 8\n",
      "Updating goodness\n",
      "Updating fairness\n",
      "Differences in fairness score and goodness score = 0.00, 0.00\n",
      "Iteration number 9\n",
      "Updating goodness\n",
      "Updating fairness\n",
      "Differences in fairness score and goodness score = 0.00, 0.00\n",
      "Iteration number 10\n",
      "Updating goodness\n",
      "Updating fairness\n",
      "Differences in fairness score and goodness score = 0.00, 0.00\n",
      "Iteration number 11\n",
      "Updating goodness\n",
      "Updating fairness\n",
      "Differences in fairness score and goodness score = 0.00, 0.00\n",
      "Iteration number 12\n",
      "Updating goodness\n",
      "Updating fairness\n",
      "Differences in fairness score and goodness score = 0.00, 0.00\n",
      "Iteration number 13\n",
      "Updating goodness\n",
      "Updating fairness\n",
      "Differences in fairness score and goodness score = 0.00, 0.00\n",
      "Iteration number 14\n",
      "Updating goodness\n",
      "Updating fairness\n",
      "Differences in fairness score and goodness score = 0.00, 0.00\n"
     ]
    }
   ],
   "source": [
    "# these two dictionaries have the required scores\n",
    "fairness, goodness = compute_fairness_goodness(G)"
   ]
  },
  {
   "cell_type": "markdown",
   "metadata": {
    "colab": {},
    "colab_type": "code",
    "id": "uUzS3OEkzvGC"
   },
   "source": [
    "## Visualisation"
   ]
  },
  {
   "cell_type": "code",
   "execution_count": 0,
   "metadata": {
    "colab": {},
    "colab_type": "code",
    "id": "97B7kFKh6Sey"
   },
   "outputs": [],
   "source": [
    "a= [i for i,j in fairness.items() ]\n",
    "b = [j for i,j in fairness.items()]\n",
    "print(len(a),b)"
   ]
  },
  {
   "cell_type": "code",
   "execution_count": 42,
   "metadata": {
    "colab": {
     "base_uri": "https://localhost:8080/",
     "height": 286
    },
    "colab_type": "code",
    "id": "UEbuTsXVwKZt",
    "outputId": "57994616-7fcd-4e89-8826-b9fae8c841be"
   },
   "outputs": [
    {
     "data": {
      "text/plain": [
       "<matplotlib.axes._subplots.AxesSubplot at 0x7f7c08552780>"
      ]
     },
     "execution_count": 42,
     "metadata": {
      "tags": []
     },
     "output_type": "execute_result"
    },
    {
     "data": {
      "image/png": "[encoded data removed]",
      "text/plain": [
       "<Figure size 432x288 with 1 Axes>"
      ]
     },
     "metadata": {
      "tags": []
     },
     "output_type": "display_data"
    }
   ],
   "source": [
    "sns.scatterplot(x = a,y= b)"
   ]
  },
  {
   "cell_type": "code",
   "execution_count": 0,
   "metadata": {
    "colab": {},
    "colab_type": "code",
    "id": "P_mZdqNyMGXO"
   },
   "outputs": [],
   "source": [
    "def my_function(row):\n",
    "    return fairness[str(row)]\n",
    "\n",
    "df['fairness'] = df['Source'].apply(my_function)"
   ]
  },
  {
   "cell_type": "code",
   "execution_count": 0,
   "metadata": {
    "colab": {
     "base_uri": "https://localhost:8080/",
     "height": 204
    },
    "colab_type": "code",
    "id": "nLjxQwD32Ptp",
    "outputId": "abb4c24c-f80c-43a0-954f-24773d6620ea"
   },
   "outputs": [
    {
     "data": {
      "text/html": [
       "<div>\n",
       "<style scoped>\n",
       "    .dataframe tbody tr th:only-of-type {\n",
       "        vertical-align: middle;\n",
       "    }\n",
       "\n",
       "    .dataframe tbody tr th {\n",
       "        vertical-align: top;\n",
       "    }\n",
       "\n",
       "    .dataframe thead th {\n",
       "        text-align: right;\n",
       "    }\n",
       "</style>\n",
       "<table border=\"1\" class=\"dataframe\">\n",
       "  <thead>\n",
       "    <tr style=\"text-align: right;\">\n",
       "      <th></th>\n",
       "      <th>Source</th>\n",
       "      <th>Target</th>\n",
       "      <th>Rating</th>\n",
       "      <th>Timestamp</th>\n",
       "      <th>fairness</th>\n",
       "    </tr>\n",
       "  </thead>\n",
       "  <tbody>\n",
       "    <tr>\n",
       "      <th>0</th>\n",
       "      <td>6</td>\n",
       "      <td>2</td>\n",
       "      <td>4</td>\n",
       "      <td>1.289242e+09</td>\n",
       "      <td>0.895726</td>\n",
       "    </tr>\n",
       "    <tr>\n",
       "      <th>1</th>\n",
       "      <td>6</td>\n",
       "      <td>5</td>\n",
       "      <td>2</td>\n",
       "      <td>1.289242e+09</td>\n",
       "      <td>0.895726</td>\n",
       "    </tr>\n",
       "    <tr>\n",
       "      <th>2</th>\n",
       "      <td>1</td>\n",
       "      <td>15</td>\n",
       "      <td>1</td>\n",
       "      <td>1.289243e+09</td>\n",
       "      <td>0.922436</td>\n",
       "    </tr>\n",
       "    <tr>\n",
       "      <th>3</th>\n",
       "      <td>4</td>\n",
       "      <td>3</td>\n",
       "      <td>7</td>\n",
       "      <td>1.289245e+09</td>\n",
       "      <td>0.891287</td>\n",
       "    </tr>\n",
       "    <tr>\n",
       "      <th>4</th>\n",
       "      <td>13</td>\n",
       "      <td>16</td>\n",
       "      <td>8</td>\n",
       "      <td>1.289254e+09</td>\n",
       "      <td>0.945563</td>\n",
       "    </tr>\n",
       "  </tbody>\n",
       "</table>\n",
       "</div>"
      ],
      "text/plain": [
       "   Source  Target  Rating     Timestamp  fairness\n",
       "0       6       2       4  1.289242e+09  0.895726\n",
       "1       6       5       2  1.289242e+09  0.895726\n",
       "2       1      15       1  1.289243e+09  0.922436\n",
       "3       4       3       7  1.289245e+09  0.891287\n",
       "4      13      16       8  1.289254e+09  0.945563"
      ]
     },
     "execution_count": 19,
     "metadata": {
      "tags": []
     },
     "output_type": "execute_result"
    }
   ],
   "source": [
    "df.head()"
   ]
  },
  {
   "cell_type": "code",
   "execution_count": 0,
   "metadata": {
    "colab": {},
    "colab_type": "code",
    "id": "WSfmx4XXNTOS"
   },
   "outputs": [],
   "source": [
    "def my_function2(row):\n",
    "    return goodness[str(row)]\n",
    "\n",
    "df['goodness'] = df['Target'].apply(my_function)"
   ]
  },
  {
   "cell_type": "code",
   "execution_count": 0,
   "metadata": {
    "colab": {
     "base_uri": "https://localhost:8080/",
     "height": 204
    },
    "colab_type": "code",
    "id": "d051BQrrNcGj",
    "outputId": "7e72c573-52b3-4e3d-8086-95dcbf7d6102"
   },
   "outputs": [
    {
     "data": {
      "text/html": [
       "<div>\n",
       "<style scoped>\n",
       "    .dataframe tbody tr th:only-of-type {\n",
       "        vertical-align: middle;\n",
       "    }\n",
       "\n",
       "    .dataframe tbody tr th {\n",
       "        vertical-align: top;\n",
       "    }\n",
       "\n",
       "    .dataframe thead th {\n",
       "        text-align: right;\n",
       "    }\n",
       "</style>\n",
       "<table border=\"1\" class=\"dataframe\">\n",
       "  <thead>\n",
       "    <tr style=\"text-align: right;\">\n",
       "      <th></th>\n",
       "      <th>Source</th>\n",
       "      <th>Target</th>\n",
       "      <th>Rating</th>\n",
       "      <th>Timestamp</th>\n",
       "      <th>fairness</th>\n",
       "      <th>goodness</th>\n",
       "    </tr>\n",
       "  </thead>\n",
       "  <tbody>\n",
       "    <tr>\n",
       "      <th>0</th>\n",
       "      <td>6</td>\n",
       "      <td>2</td>\n",
       "      <td>4</td>\n",
       "      <td>1.289242e+09</td>\n",
       "      <td>0.895726</td>\n",
       "      <td>0.893744</td>\n",
       "    </tr>\n",
       "    <tr>\n",
       "      <th>1</th>\n",
       "      <td>6</td>\n",
       "      <td>5</td>\n",
       "      <td>2</td>\n",
       "      <td>1.289242e+09</td>\n",
       "      <td>0.895726</td>\n",
       "      <td>0.940111</td>\n",
       "    </tr>\n",
       "    <tr>\n",
       "      <th>2</th>\n",
       "      <td>1</td>\n",
       "      <td>15</td>\n",
       "      <td>1</td>\n",
       "      <td>1.289243e+09</td>\n",
       "      <td>0.922436</td>\n",
       "      <td>0.960489</td>\n",
       "    </tr>\n",
       "    <tr>\n",
       "      <th>3</th>\n",
       "      <td>4</td>\n",
       "      <td>3</td>\n",
       "      <td>7</td>\n",
       "      <td>1.289245e+09</td>\n",
       "      <td>0.891287</td>\n",
       "      <td>1.000000</td>\n",
       "    </tr>\n",
       "    <tr>\n",
       "      <th>4</th>\n",
       "      <td>13</td>\n",
       "      <td>16</td>\n",
       "      <td>8</td>\n",
       "      <td>1.289254e+09</td>\n",
       "      <td>0.945563</td>\n",
       "      <td>1.000000</td>\n",
       "    </tr>\n",
       "  </tbody>\n",
       "</table>\n",
       "</div>"
      ],
      "text/plain": [
       "   Source  Target  Rating     Timestamp  fairness  goodness\n",
       "0       6       2       4  1.289242e+09  0.895726  0.893744\n",
       "1       6       5       2  1.289242e+09  0.895726  0.940111\n",
       "2       1      15       1  1.289243e+09  0.922436  0.960489\n",
       "3       4       3       7  1.289245e+09  0.891287  1.000000\n",
       "4      13      16       8  1.289254e+09  0.945563  1.000000"
      ]
     },
     "execution_count": 21,
     "metadata": {
      "tags": []
     },
     "output_type": "execute_result"
    }
   ],
   "source": [
    "df.head()"
   ]
  },
  {
   "cell_type": "code",
   "execution_count": 0,
   "metadata": {
    "colab": {},
    "colab_type": "code",
    "id": "EHYeASEkNd6P"
   },
   "outputs": [],
   "source": [
    "df.drop(['Timestamp'],axis = 1,inplace = True)"
   ]
  },
  {
   "cell_type": "code",
   "execution_count": 0,
   "metadata": {
    "colab": {
     "base_uri": "https://localhost:8080/",
     "height": 204
    },
    "colab_type": "code",
    "id": "V7hs91fDNkNN",
    "outputId": "37d2f8f4-fd22-4b7f-83c0-669579feb477"
   },
   "outputs": [
    {
     "data": {
      "text/html": [
       "<div>\n",
       "<style scoped>\n",
       "    .dataframe tbody tr th:only-of-type {\n",
       "        vertical-align: middle;\n",
       "    }\n",
       "\n",
       "    .dataframe tbody tr th {\n",
       "        vertical-align: top;\n",
       "    }\n",
       "\n",
       "    .dataframe thead th {\n",
       "        text-align: right;\n",
       "    }\n",
       "</style>\n",
       "<table border=\"1\" class=\"dataframe\">\n",
       "  <thead>\n",
       "    <tr style=\"text-align: right;\">\n",
       "      <th></th>\n",
       "      <th>Source</th>\n",
       "      <th>Target</th>\n",
       "      <th>Rating</th>\n",
       "      <th>fairness</th>\n",
       "      <th>goodness</th>\n",
       "    </tr>\n",
       "  </thead>\n",
       "  <tbody>\n",
       "    <tr>\n",
       "      <th>0</th>\n",
       "      <td>6</td>\n",
       "      <td>2</td>\n",
       "      <td>4</td>\n",
       "      <td>0.895726</td>\n",
       "      <td>0.893744</td>\n",
       "    </tr>\n",
       "    <tr>\n",
       "      <th>1</th>\n",
       "      <td>6</td>\n",
       "      <td>5</td>\n",
       "      <td>2</td>\n",
       "      <td>0.895726</td>\n",
       "      <td>0.940111</td>\n",
       "    </tr>\n",
       "    <tr>\n",
       "      <th>2</th>\n",
       "      <td>1</td>\n",
       "      <td>15</td>\n",
       "      <td>1</td>\n",
       "      <td>0.922436</td>\n",
       "      <td>0.960489</td>\n",
       "    </tr>\n",
       "    <tr>\n",
       "      <th>3</th>\n",
       "      <td>4</td>\n",
       "      <td>3</td>\n",
       "      <td>7</td>\n",
       "      <td>0.891287</td>\n",
       "      <td>1.000000</td>\n",
       "    </tr>\n",
       "    <tr>\n",
       "      <th>4</th>\n",
       "      <td>13</td>\n",
       "      <td>16</td>\n",
       "      <td>8</td>\n",
       "      <td>0.945563</td>\n",
       "      <td>1.000000</td>\n",
       "    </tr>\n",
       "  </tbody>\n",
       "</table>\n",
       "</div>"
      ],
      "text/plain": [
       "   Source  Target  Rating  fairness  goodness\n",
       "0       6       2       4  0.895726  0.893744\n",
       "1       6       5       2  0.895726  0.940111\n",
       "2       1      15       1  0.922436  0.960489\n",
       "3       4       3       7  0.891287  1.000000\n",
       "4      13      16       8  0.945563  1.000000"
      ]
     },
     "execution_count": 23,
     "metadata": {
      "tags": []
     },
     "output_type": "execute_result"
    }
   ],
   "source": [
    "df.head()"
   ]
  },
  {
   "cell_type": "code",
   "execution_count": 0,
   "metadata": {
    "colab": {},
    "colab_type": "code",
    "id": "JEJmf6S1O2uy"
   },
   "outputs": [],
   "source": [
    "df['rating'] = df['Rating']\n",
    "df.drop(['Rating'],axis = 1,inplace = True)"
   ]
  },
  {
   "cell_type": "code",
   "execution_count": 0,
   "metadata": {
    "colab": {
     "base_uri": "https://localhost:8080/",
     "height": 204
    },
    "colab_type": "code",
    "id": "_TTKvyTjO_O6",
    "outputId": "0ad7a5e3-5cee-438c-a0ce-6767e881f979"
   },
   "outputs": [
    {
     "data": {
      "text/html": [
       "<div>\n",
       "<style scoped>\n",
       "    .dataframe tbody tr th:only-of-type {\n",
       "        vertical-align: middle;\n",
       "    }\n",
       "\n",
       "    .dataframe tbody tr th {\n",
       "        vertical-align: top;\n",
       "    }\n",
       "\n",
       "    .dataframe thead th {\n",
       "        text-align: right;\n",
       "    }\n",
       "</style>\n",
       "<table border=\"1\" class=\"dataframe\">\n",
       "  <thead>\n",
       "    <tr style=\"text-align: right;\">\n",
       "      <th></th>\n",
       "      <th>Source</th>\n",
       "      <th>Target</th>\n",
       "      <th>fairness</th>\n",
       "      <th>goodness</th>\n",
       "      <th>rating</th>\n",
       "    </tr>\n",
       "  </thead>\n",
       "  <tbody>\n",
       "    <tr>\n",
       "      <th>0</th>\n",
       "      <td>6</td>\n",
       "      <td>2</td>\n",
       "      <td>0.895726</td>\n",
       "      <td>0.893744</td>\n",
       "      <td>4</td>\n",
       "    </tr>\n",
       "    <tr>\n",
       "      <th>1</th>\n",
       "      <td>6</td>\n",
       "      <td>5</td>\n",
       "      <td>0.895726</td>\n",
       "      <td>0.940111</td>\n",
       "      <td>2</td>\n",
       "    </tr>\n",
       "    <tr>\n",
       "      <th>2</th>\n",
       "      <td>1</td>\n",
       "      <td>15</td>\n",
       "      <td>0.922436</td>\n",
       "      <td>0.960489</td>\n",
       "      <td>1</td>\n",
       "    </tr>\n",
       "    <tr>\n",
       "      <th>3</th>\n",
       "      <td>4</td>\n",
       "      <td>3</td>\n",
       "      <td>0.891287</td>\n",
       "      <td>1.000000</td>\n",
       "      <td>7</td>\n",
       "    </tr>\n",
       "    <tr>\n",
       "      <th>4</th>\n",
       "      <td>13</td>\n",
       "      <td>16</td>\n",
       "      <td>0.945563</td>\n",
       "      <td>1.000000</td>\n",
       "      <td>8</td>\n",
       "    </tr>\n",
       "  </tbody>\n",
       "</table>\n",
       "</div>"
      ],
      "text/plain": [
       "   Source  Target  fairness  goodness  rating\n",
       "0       6       2  0.895726  0.893744       4\n",
       "1       6       5  0.895726  0.940111       2\n",
       "2       1      15  0.922436  0.960489       1\n",
       "3       4       3  0.891287  1.000000       7\n",
       "4      13      16  0.945563  1.000000       8"
      ]
     },
     "execution_count": 25,
     "metadata": {
      "tags": []
     },
     "output_type": "execute_result"
    }
   ],
   "source": [
    "df.head()"
   ]
  },
  {
   "cell_type": "markdown",
   "metadata": {
    "colab": {},
    "colab_type": "code",
    "id": "acTXASLWNltZ"
   },
   "source": [
    "# Applying Machine Learning Models"
   ]
  },
  {
   "cell_type": "markdown",
   "metadata": {
    "colab": {},
    "colab_type": "code",
    "id": "k1ulPVJWN97S"
   },
   "source": [
    "## Creating X and y "
   ]
  },
  {
   "cell_type": "code",
   "execution_count": 0,
   "metadata": {
    "colab": {},
    "colab_type": "code",
    "id": "P7LDpIaFP2my"
   },
   "outputs": [],
   "source": [
    "X = df.iloc[:,2:4].values\n",
    "y = df.iloc[:,4].values"
   ]
  },
  {
   "cell_type": "markdown",
   "metadata": {
    "colab": {},
    "colab_type": "code",
    "id": "RuYGzGR8wxGD"
   },
   "source": [
    "## Splitting data into test , train and validation"
   ]
  },
  {
   "cell_type": "code",
   "execution_count": 0,
   "metadata": {
    "colab": {},
    "colab_type": "code",
    "id": "Pjh67yihOCcg"
   },
   "outputs": [],
   "source": [
    "X_train,X_test,y_train,y_test = train_test_split(X,y,test_size = 0.15,random_state = 0)\n",
    "X_train,X_val,y_train,y_val = train_test_split(X_train,y_train,test_size = 0.15,random_state = 0)"
   ]
  },
  {
   "cell_type": "markdown",
   "metadata": {
    "colab": {},
    "colab_type": "code",
    "id": "FzUj9vgRyjef"
   },
   "source": [
    "## Using Logistic Regression "
   ]
  },
  {
   "cell_type": "code",
   "execution_count": 0,
   "metadata": {
    "colab": {
     "base_uri": "https://localhost:8080/",
     "height": 204
    },
    "colab_type": "code",
    "id": "4g6cvcIJ4cMi",
    "outputId": "760ec7d5-b252-4538-de80-e4ac84c22e44"
   },
   "outputs": [
    {
     "name": "stdout",
     "output_type": "stream",
     "text": [
      "Validation Accuracy is: \n",
      "0.5881445570736007\n",
      "\n",
      "\n",
      "======================\n",
      "\n",
      "\n",
      "Test accuracy is: \n"
     ]
    },
    {
     "name": "stderr",
     "output_type": "stream",
     "text": [
      "/usr/local/lib/python3.6/dist-packages/sklearn/linear_model/logistic.py:947: ConvergenceWarning: lbfgs failed to converge. Increase the number of iterations.\n",
      "  \"of iterations.\", ConvergenceWarning)\n"
     ]
    },
    {
     "data": {
      "text/plain": [
       "0.5931822438658925"
      ]
     },
     "execution_count": 32,
     "metadata": {
      "tags": []
     },
     "output_type": "execute_result"
    }
   ],
   "source": [
    "lg = LogisticRegression(multi_class='multinomial', solver='lbfgs', max_iter=250)\n",
    "lg.fit(X_train,y_train)\n",
    "print(\"Validation Accuracy is: \")\n",
    "print(lg.score(X_val,y_val))\n",
    "print(\"\\n\\n======================\\n\\n\")\n",
    "print(\"Test accuracy is: \")\n",
    "lg.score(X_test,y_test)"
   ]
  },
  {
   "cell_type": "markdown",
   "metadata": {
    "colab": {},
    "colab_type": "code",
    "id": "4KVY3xJIwgGG"
   },
   "source": [
    "## Using Random Forest Classifier"
   ]
  },
  {
   "cell_type": "code",
   "execution_count": 0,
   "metadata": {
    "colab": {
     "base_uri": "https://localhost:8080/",
     "height": 170
    },
    "colab_type": "code",
    "id": "oXtDuyT1Qpre",
    "outputId": "533c3da9-11b9-4a55-d115-69c42aeb9b8e"
   },
   "outputs": [
    {
     "name": "stdout",
     "output_type": "stream",
     "text": [
      "Validation Accuracy is: \n",
      "0.5414279418245923\n",
      "\n",
      "\n",
      "======================\n",
      "\n",
      "\n",
      "Test accuracy is: \n"
     ]
    },
    {
     "data": {
      "text/plain": [
       "0.5467315976774677"
      ]
     },
     "execution_count": 34,
     "metadata": {
      "tags": []
     },
     "output_type": "execute_result"
    }
   ],
   "source": [
    "classifier = RandomForestClassifier(n_estimators=500,criterion= 'entropy',random_state = 0)\n",
    "classifier.fit(X_train,y_train)\n",
    "print(\"Validation Accuracy is: \")\n",
    "print(classifier.score(X_val,y_val))\n",
    "print(\"\\n\\n======================\\n\\n\")\n",
    "print(\"Test accuracy is: \")\n",
    "classifier.score(X_test,y_test)"
   ]
  },
  {
   "cell_type": "markdown",
   "metadata": {
    "colab": {},
    "colab_type": "code",
    "id": "8hQyzaniTZZL"
   },
   "source": [
    "## Using Gradient Boosting Algorithm"
   ]
  },
  {
   "cell_type": "code",
   "execution_count": 0,
   "metadata": {
    "colab": {},
    "colab_type": "code",
    "id": "bK6E52xbRXtg"
   },
   "outputs": [],
   "source": [
    "gb = GradientBoostingClassifier()\n",
    "gb = gb.fit(X_train, y_train)"
   ]
  },
  {
   "cell_type": "code",
   "execution_count": 0,
   "metadata": {
    "colab": {
     "base_uri": "https://localhost:8080/",
     "height": 170
    },
    "colab_type": "code",
    "id": "dGHIP56uSiIb",
    "outputId": "2a0d051e-3072-4474-ae19-70a1c48f79fc"
   },
   "outputs": [
    {
     "name": "stdout",
     "output_type": "stream",
     "text": [
      "Validation Accuracy is: \n",
      "0.5967386513882768\n",
      "\n",
      "\n",
      "======================\n",
      "\n",
      "\n",
      "Test accuracy is: \n"
     ]
    },
    {
     "data": {
      "text/plain": [
       "0.604982206405694"
      ]
     },
     "execution_count": 48,
     "metadata": {
      "tags": []
     },
     "output_type": "execute_result"
    }
   ],
   "source": [
    "gb = GradientBoostingClassifier()\n",
    "gb = gb.fit(X_train, y_train)\n",
    "print(\"Validation Accuracy is: \")\n",
    "print(gb.score(X_val,y_val))\n",
    "print(\"\\n\\n======================\\n\\n\")\n",
    "print(\"Test accuracy is: \")\n",
    "gb.score(X_test,y_test)"
   ]
  },
  {
   "cell_type": "code",
   "execution_count": 0,
   "metadata": {
    "colab": {},
    "colab_type": "code",
    "id": "6XKQ0DczwA_p"
   },
   "outputs": [],
   "source": []
  }
 ],
 "metadata": {
  "accelerator": "GPU",
  "colab": {
   "collapsed_sections": [],
   "name": "NUS_test2",
   "provenance": [],
   "version": "0.3.2"
  },
  "kernelspec": {
   "display_name": "Python 3",
   "language": "python",
   "name": "python3"
  },
  "language_info": {
   "codemirror_mode": {
    "name": "ipython",
    "version": 3
   },
   "file_extension": ".py",
   "mimetype": "text/x-python",
   "name": "python",
   "nbconvert_exporter": "python",
   "pygments_lexer": "ipython3",
   "version": "3.7.3"
  }
 },
 "nbformat": 4,
 "nbformat_minor": 1
}
